{
 "cells": [
  {
   "cell_type": "markdown",
   "source": [
    "# 2 - Download the Dataset\n",
    "The Keras-TensorFlow library offers a way to download the CIFAR-100 dataset using these lines of code:"
   ],
   "attachments": {},
   "metadata": {
    "datalore": {
     "node_id": "KguGxksUCOFy377cjVsgPb",
     "type": "MD",
     "hide_input_from_viewers": true,
     "hide_output_from_viewers": true
    }
   }
  },
  {
   "cell_type": "code",
   "source": [
    "from tensorflow.keras.datasets import cifar100\n",
    "(x_train, y_train), (x_test, y_test) = cifar100.load_data()"
   ],
   "execution_count": 1,
   "outputs": [],
   "metadata": {
    "datalore": {
     "node_id": "FQW1UnwPVqfJx53wZR5V3H",
     "type": "CODE",
     "hide_input_from_viewers": true,
     "hide_output_from_viewers": true
    },
    "ExecuteTime": {
     "end_time": "2023-06-24T00:18:52.157406700Z",
     "start_time": "2023-06-24T00:18:47.177230900Z"
    }
   }
  },
  {
   "cell_type": "markdown",
   "source": [
    "# 3 Reshaping the Images\n",
    "Prepare your dataset.\n",
    "Write these two lines of code to somewhat normalize your dataset:"
   ],
   "attachments": {},
   "metadata": {
    "datalore": {
     "node_id": "Tj7MKJWejqFYfFDaRE7qqq",
     "type": "MD",
     "hide_input_from_viewers": true,
     "hide_output_from_viewers": true
    }
   }
  },
  {
   "cell_type": "code",
   "source": [
    "x_train = x_train.astype('float32')/255\n",
    "x_test = x_test.astype('float32')/255"
   ],
   "execution_count": 2,
   "outputs": [],
   "metadata": {
    "datalore": {
     "node_id": "eFsQmn85Y1pPEyXK8OrJSy",
     "type": "CODE",
     "hide_input_from_viewers": true,
     "hide_output_from_viewers": true
    },
    "ExecuteTime": {
     "end_time": "2023-06-24T00:18:52.793270200Z",
     "start_time": "2023-06-24T00:18:52.158393100Z"
    }
   }
  },
  {
   "cell_type": "markdown",
   "source": [
    "# 4 - Encode the Target Labels\n",
    "Use these lines of code to encode your labels for training:"
   ],
   "attachments": {},
   "metadata": {
    "datalore": {
     "node_id": "0wNvUsjdqYirdIJtxDHdUw",
     "type": "MD",
     "hide_input_from_viewers": true,
     "hide_output_from_viewers": true
    }
   }
  },
  {
   "cell_type": "code",
   "source": [
    "from keras.utils import to_categorical\n",
    "y_train = to_categorical(y_train, 100)\n",
    "y_test = to_categorical(y_test, 100)"
   ],
   "execution_count": 3,
   "outputs": [],
   "metadata": {
    "datalore": {
     "node_id": "G1kQaCGbG45G61Oy0wOrN9",
     "type": "CODE",
     "hide_input_from_viewers": true,
     "hide_output_from_viewers": true
    },
    "ExecuteTime": {
     "end_time": "2023-06-24T00:18:52.808268800Z",
     "start_time": "2023-06-24T00:18:52.792267800Z"
    }
   }
  },
  {
   "cell_type": "markdown",
   "source": [
    "# 5 Build the Convolutional layers of the CNN model\n",
    "The input layer is a 2D convolutional layer with the following parameters:\n",
    "* 32 units; convolution window size: 3x3; activation function: ReLU; input shape: 32x32x3;  \n",
    "\n",
    "Then build a 2D convolutional layer with the following parameters:\n",
    "* 32 units; convolution window size: 3 x 3; activation function: ReLU.  \n",
    "\n",
    "Then build a 2D max pooling layer with a pool size of 2x2.  \n",
    "\n",
    "Then build a dropout layer with a 0.25 rate.  \n",
    "\n",
    "Finally, build two 2D convolutional layers, each with the following parameters:\n",
    "* 64 units; Convolution window size: 3 x 3; Activation function: ReLU\n",
    "\n",
    "Add a 2D max pooling layer with a pool size of 2x2\n",
    "\n",
    "Add a dropout layer with a 0.25 rate"
   ],
   "attachments": {},
   "metadata": {
    "datalore": {
     "node_id": "w4pvtMWeYGWZ1sbr8DtIsE",
     "type": "MD",
     "hide_input_from_viewers": true,
     "hide_output_from_viewers": true
    }
   }
  },
  {
   "cell_type": "code",
   "source": [
    "from keras.models import Sequential\n",
    "from keras.layers import Conv2D, MaxPooling2D, Dropout\n",
    "\n",
    "# Initialize the model\n",
    "model = Sequential()\n",
    "\n",
    "# Input layer\n",
    "model.add(Conv2D(32, (3, 3), activation='relu', input_shape=(32, 32, 3)))\n",
    "\n",
    "# Convolution layer\n",
    "model.add(Conv2D(32, (3, 3), activation='relu'))\n",
    "\n",
    "# Max pooling layer\n",
    "model.add(MaxPooling2D(pool_size=(2, 2)))\n",
    "\n",
    "# Dropout layer\n",
    "model.add(Dropout(0.25))\n",
    "\n",
    "# Two convolution layers\n",
    "model.add(Conv2D(64, (3, 3), activation='relu'))\n",
    "model.add(Conv2D(64, (3, 3), activation='relu'))\n",
    "\n",
    "# Max pooling layer\n",
    "model.add(MaxPooling2D(pool_size=(2, 2)))\n",
    "\n",
    "# Dropout layer\n",
    "model.add(Dropout(0.25))"
   ],
   "execution_count": 4,
   "outputs": [],
   "metadata": {
    "datalore": {
     "node_id": "ozXg7Pn3oWsTDN1WYwKm2A",
     "type": "CODE",
     "hide_input_from_viewers": true,
     "hide_output_from_viewers": true
    },
    "ExecuteTime": {
     "end_time": "2023-06-24T00:18:52.944891300Z",
     "start_time": "2023-06-24T00:18:52.816290300Z"
    }
   }
  },
  {
   "cell_type": "markdown",
   "source": [
    "# 6 - Build the rest of the CNN\n",
    "Add a flattening layer  \n",
    "Add a fully connected layer with:\n",
    "- 512 units; Activation function: ReLU\n",
    "\n",
    "Add a dropout layer with a 0.5 rate\n",
    "\n",
    "The output layer is a fully connected layer with:\n",
    "- 100 units; Activation function: softmax"
   ],
   "attachments": {},
   "metadata": {
    "datalore": {
     "node_id": "eLkezzbL9gGgpMBcDlHqOJ",
     "type": "MD",
     "hide_input_from_viewers": true,
     "hide_output_from_viewers": true
    }
   }
  },
  {
   "cell_type": "code",
   "source": [
    "from keras.layers import Flatten, Dense\n",
    "\n",
    "model.add(Flatten())\n",
    "\n",
    "model.add(Dense(512, activation='relu'))\n",
    "\n",
    "model.add(Dropout(0.5))\n",
    "\n",
    "model.add(Dense(100, activation='softmax'))"
   ],
   "execution_count": 5,
   "outputs": [],
   "metadata": {
    "datalore": {
     "node_id": "dM3nq6haughk32NfxtHbgZ",
     "type": "CODE",
     "hide_input_from_viewers": true,
     "hide_output_from_viewers": true
    },
    "ExecuteTime": {
     "end_time": "2023-06-24T00:18:52.999893500Z",
     "start_time": "2023-06-24T00:18:52.934891100Z"
    }
   }
  },
  {
   "cell_type": "markdown",
   "source": [
    "# 7 - Choosing Hyperparameters\n",
    "The Network using the following parameters:\n",
    "- Optimizer: Adam\n",
    "- Loss function: categorical_crossentropy\n",
    "- Metrics: accuracy\n",
    "- Epochs: 100\n",
    "- Batch size: 32"
   ],
   "attachments": {},
   "metadata": {
    "datalore": {
     "node_id": "L3lI0xyhBk5SSsUWx5L8wa",
     "type": "MD",
     "hide_input_from_viewers": true,
     "hide_output_from_viewers": true
    }
   }
  },
  {
   "cell_type": "code",
   "source": [
    "# Compile the model\n",
    "model.compile(optimizer='adam',loss='categorical_crossentropy', metrics=['accuracy'])"
   ],
   "execution_count": 6,
   "outputs": [],
   "metadata": {
    "datalore": {
     "node_id": "ggXzcAmn16JKvOsFqGCeZn",
     "type": "CODE",
     "hide_input_from_viewers": true,
     "hide_output_from_viewers": true
    },
    "ExecuteTime": {
     "end_time": "2023-06-24T00:18:53.060571600Z",
     "start_time": "2023-06-24T00:18:52.998891700Z"
    }
   }
  },
  {
   "cell_type": "markdown",
   "source": [
    "## Train the network - I used 10 epochs instead of 100, otherwise my compute was going to melt"
   ],
   "attachments": {},
   "metadata": {
    "datalore": {
     "node_id": "XCI03zCPT48OT732gdu6gr",
     "type": "MD",
     "hide_input_from_viewers": true,
     "hide_output_from_viewers": true
    }
   }
  },
  {
   "cell_type": "code",
   "source": [
    "model.fit(x_train, y_train,epochs=10,batch_size=32,validation_data=(x_test, y_test))"
   ],
   "execution_count": 7,
   "outputs": [
    {
     "name": "stdout",
     "output_type": "stream",
     "text": [
      "Epoch 1/10\n",
      "1563/1563 [==============================] - 122s 78ms/step - loss: 4.0586 - accuracy: 0.0752 - val_loss: 3.5457 - val_accuracy: 0.1610\n",
      "Epoch 2/10\n",
      "1563/1563 [==============================] - 113s 72ms/step - loss: 3.5150 - accuracy: 0.1629 - val_loss: 3.2080 - val_accuracy: 0.2258\n",
      "Epoch 3/10\n",
      "1563/1563 [==============================] - 103s 66ms/step - loss: 3.2631 - accuracy: 0.2108 - val_loss: 3.0261 - val_accuracy: 0.2628\n",
      "Epoch 4/10\n",
      "1563/1563 [==============================] - 97s 62ms/step - loss: 3.0921 - accuracy: 0.2395 - val_loss: 2.9059 - val_accuracy: 0.2891\n",
      "Epoch 5/10\n",
      "1563/1563 [==============================] - 103s 66ms/step - loss: 2.9735 - accuracy: 0.2634 - val_loss: 2.7895 - val_accuracy: 0.3102\n",
      "Epoch 6/10\n",
      "1563/1563 [==============================] - 98s 63ms/step - loss: 2.8785 - accuracy: 0.2827 - val_loss: 2.7145 - val_accuracy: 0.3203\n",
      "Epoch 7/10\n",
      "1563/1563 [==============================] - 110s 70ms/step - loss: 2.7952 - accuracy: 0.2947 - val_loss: 2.6470 - val_accuracy: 0.3334\n",
      "Epoch 8/10\n",
      "1563/1563 [==============================] - 104s 67ms/step - loss: 2.7272 - accuracy: 0.3108 - val_loss: 2.6426 - val_accuracy: 0.3333\n",
      "Epoch 9/10\n",
      "1563/1563 [==============================] - 98s 63ms/step - loss: 2.6630 - accuracy: 0.3233 - val_loss: 2.5531 - val_accuracy: 0.3564\n",
      "Epoch 10/10\n",
      "1563/1563 [==============================] - 109s 69ms/step - loss: 2.6079 - accuracy: 0.3337 - val_loss: 2.5537 - val_accuracy: 0.3571\n"
     ]
    },
    {
     "data": {
      "text/plain": "<keras.callbacks.History at 0x221db78cdf0>"
     },
     "execution_count": 7,
     "metadata": {},
     "output_type": "execute_result"
    }
   ],
   "metadata": {
    "datalore": {
     "node_id": "qayoyHIwgHWyRHl1byruEu",
     "type": "CODE",
     "hide_input_from_viewers": true,
     "hide_output_from_viewers": true
    },
    "ExecuteTime": {
     "end_time": "2023-06-24T00:36:30.497485100Z",
     "start_time": "2023-06-24T00:18:53.027409600Z"
    }
   }
  },
  {
   "cell_type": "markdown",
   "source": [
    "# 8 - Training Network\n",
    "Use Keras to implement the network described and train your data.  \n",
    "Test the model using the test set (x_test and y_test).  \n",
    "Note: your code should return the model and the test results (loss and accuracy)."
   ],
   "attachments": {},
   "metadata": {
    "datalore": {
     "node_id": "84fXyP4WqbigLdxjtgR3oS",
     "type": "MD",
     "hide_input_from_viewers": true,
     "hide_output_from_viewers": true
    }
   }
  },
  {
   "cell_type": "code",
   "source": [
    "# Test the model\n",
    "test_loss, test_acc = model.evaluate(x_test, y_test)\n",
    "\n",
    "print(f'Test Loss: {test_loss}')\n",
    "print(f'Test Accuracy: {test_acc}')"
   ],
   "execution_count": 8,
   "outputs": [
    {
     "name": "stdout",
     "output_type": "stream",
     "text": [
      "313/313 [==============================] - 3s 10ms/step - loss: 2.5537 - accuracy: 0.3571\n",
      "Test Loss: 2.5537309646606445\n",
      "Test Accuracy: 0.3571000099182129\n"
     ]
    }
   ],
   "metadata": {
    "datalore": {
     "node_id": "aIPRmqmGT5g3tCXtKahNDU",
     "type": "CODE",
     "hide_input_from_viewers": true,
     "hide_output_from_viewers": true
    },
    "ExecuteTime": {
     "end_time": "2023-06-24T00:36:33.866076800Z",
     "start_time": "2023-06-24T00:36:30.497485100Z"
    }
   }
  },
  {
   "cell_type": "code",
   "execution_count": 8,
   "outputs": [],
   "source": [],
   "metadata": {
    "collapsed": false,
    "ExecuteTime": {
     "end_time": "2023-06-24T00:36:33.881699400Z",
     "start_time": "2023-06-24T00:36:33.866076800Z"
    }
   }
  }
 ],
 "metadata": {
  "kernelspec": {
   "name": "python3",
   "language": "python",
   "display_name": "Python 3 (ipykernel)"
  },
  "datalore": {
   "computation_mode": "JUPYTER",
   "package_manager": "pip",
   "base_environment": "default",
   "packages": [],
   "report_row_ids": [],
   "version": 3
  }
 },
 "nbformat": 4,
 "nbformat_minor": 4
}
